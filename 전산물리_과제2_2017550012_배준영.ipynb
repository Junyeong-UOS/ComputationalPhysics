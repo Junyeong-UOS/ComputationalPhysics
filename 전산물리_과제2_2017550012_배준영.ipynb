{
 "cells": [
  {
   "cell_type": "markdown",
   "metadata": {},
   "source": [
    "# 과제2 2017550012 배준영"
   ]
  },
  {
   "cell_type": "markdown",
   "metadata": {},
   "source": [
    "## 1번"
   ]
  },
  {
   "cell_type": "code",
   "execution_count": 36,
   "metadata": {},
   "outputs": [
    {
     "name": "stdout",
     "output_type": "stream",
     "text": [
      "상삼각행렬\n",
      "[[1 2 4]\n",
      " [0 2 2]\n",
      " [0 0 3]]\n",
      "[ 3  4 -6]\n"
     ]
    }
   ],
   "source": [
    "import numpy as np\n",
    "\n",
    "A = np.array([[1,2,4],\n",
    "              [3,8,14],\n",
    "              [2,6,13]])\n",
    "\n",
    "B = np.array([3,13,4])\n",
    "\n",
    "Acopy = A.copy()\n",
    "Bcopy = B.copy()\n",
    "# 소거\n",
    "\n",
    "lam1 = A[1,0] / A[0,0]\n",
    "lam2 = A[2,0] / A[0,0]\n",
    "\n",
    "\n",
    "A[1,:] = A[1,:] - A[0,:] * lam1 \n",
    "B[1] = B[1] - B[0] * lam1\n",
    "A[2,:] = A[2,:] - A[0,:] * lam2\n",
    "B[2] = B[2] - B[0] * lam2\n",
    "\n",
    "lam3 = A[2,1] / A[1,1]\n",
    "A[2,:] = A[2,:] - A[1,:] * lam3\n",
    "B[2] = B[2] - B[1] * lam3\n",
    "\n",
    "\n",
    "\n",
    "print(\"상삼각행렬\"); print(A); print(B)"
   ]
  },
  {
   "cell_type": "code",
   "execution_count": 37,
   "metadata": {},
   "outputs": [
    {
     "name": "stdout",
     "output_type": "stream",
     "text": [
      "My answer\n",
      " [ 3.  4. -2.]\n",
      "linalg.solve\n",
      " [ 3.  4. -2.]\n"
     ]
    }
   ],
   "source": [
    "# 후진 대입\n",
    "n = len(B)\n",
    "x = np.zeros(n)\n",
    "\n",
    "for k in range(n-1,-1,-1):\n",
    "    x[k] = (B[k] - np.dot(A[k,k+1:n],x[k+1:n])) / A[k,k]\n",
    "\n",
    "print(\"My answer\\n\",x)\n",
    "print(\"linalg.solve\\n\", np.linalg.solve(Acopy,Bcopy))\n",
    "\n"
   ]
  },
  {
   "cell_type": "code",
   "execution_count": 4,
   "metadata": {},
   "outputs": [
    {
     "name": "stdout",
     "output_type": "stream",
     "text": [
      "My answer\n",
      " [ 3.  4. -2.]\n"
     ]
    }
   ],
   "source": [
    "# 한번에 소거\n",
    "import numpy as np\n",
    "\n",
    "A = np.array([[1,2,4],\n",
    "              [3,8,14],\n",
    "              [2,6,13]])\n",
    "\n",
    "B = np.array([[3],\n",
    "              [13],\n",
    "              [4]])\n",
    "\n",
    "\n",
    "Acopy = A.copy()\n",
    "Bcopy = B.copy()\n",
    "\n",
    "C = np.hstack([A,B])\n",
    "\n",
    "lam1 = C[1,0] / C[0,0]\n",
    "lam2 = C[2,0] / C[0,0]\n",
    "\n",
    "\n",
    "C[1,:] = C[1,:] - C[0,:] * lam1 \n",
    "C[2,:] = C[2,:] - C[0,:] * lam2\n",
    "\n",
    "lam3 = C[2,1] / C[1,1]\n",
    "C[2,:] = C[2,:] - C[1,:] * lam3\n",
    "\n",
    "n = len(B)\n",
    "x = np.zeros(n)\n",
    "bc = C[0:3,3]\n",
    "\n",
    "\n",
    "for k in range(n-1,-1,-1):\n",
    "    x[k] = (bc[k] - np.dot(C[k,k+1:n],x[k+1:n])) / C[k,k]\n",
    "\n",
    "\n",
    "print(\"My answer\\n\",x)"
   ]
  },
  {
   "cell_type": "markdown",
   "metadata": {},
   "source": [
    "## 2번"
   ]
  },
  {
   "cell_type": "code",
   "execution_count": 5,
   "metadata": {},
   "outputs": [
    {
     "name": "stdout",
     "output_type": "stream",
     "text": [
      "[[ 1  2  0 -2  0]\n",
      " [ 0  1 -1  1 -1]\n",
      " [ 0  1  0  2 -1]\n",
      " [ 0  0  2  1  2]\n",
      " [ 0  0  0 -1  1]]\n",
      "[-4 -1  1  1 -2]\n"
     ]
    }
   ],
   "source": [
    "import numpy as np\n",
    "\n",
    "A = np.array([[0, 0, 2, 1, 2],\n",
    "              [0, 1, 0, 2, -1],\n",
    "              [1, 2, 0, -2, 0],\n",
    "              [0, 0, 0, -1, 1],\n",
    "              [0, 1, -1, 1, -1]])\n",
    "\n",
    "B = np.array([1, 1, -4, -2, -1])\n",
    "\n",
    "Acopy = A.copy()\n",
    "Bcopy = B.copy()\n",
    "\n",
    "# 정렬\n",
    "\n",
    "A[[0,2]] = A[[2,0]]\n",
    "B[[0,2]] = B[[2,0]]\n",
    "\n",
    "A[[1,4]] = A[[4,1]]\n",
    "B[[1,4]] = B[[4,1]]\n",
    "\n",
    "A[[2,4]] = A[[4,2]]\n",
    "B[[2,4]] = B[[4,2]]\n",
    "\n",
    "A[[3,4]] = A[[4,3]]\n",
    "B[[3,4]] = B[[4,3]]\n",
    "\n",
    "print(A)\n",
    "print(B)"
   ]
  },
  {
   "cell_type": "code",
   "execution_count": 6,
   "metadata": {},
   "outputs": [
    {
     "name": "stdout",
     "output_type": "stream",
     "text": [
      "A\n",
      " [[ 1  2  0 -2  0]\n",
      " [ 0  1 -1  1 -1]\n",
      " [ 0  0  1  1  0]\n",
      " [ 0  0  0 -1  2]\n",
      " [ 0  0  0  0 -1]]\n",
      "B\n",
      " [-4 -1  2 -3  1]\n"
     ]
    }
   ],
   "source": [
    "# 소거\n",
    "lam1 = A[2,1] / A[1,1]\n",
    "A[2,:] = A[2,:] - A[1,:] * lam1\n",
    "B[2] = B[2] - B[1] * lam1\n",
    "\n",
    "lam2 = A[3,2] / A[2,2]\n",
    "A[3,:] = A[3,:] - A[2,:] * lam2\n",
    "B[3] = B[3] - B[2] * lam2\n",
    "\n",
    "lam3 = A[4,3] / A[3,3]\n",
    "A[4,:] = A[4,:] - A[3,:] * lam3\n",
    "B[4] = B[4] - B[3] * lam3\n",
    "print(\"A\\n\",A)\n",
    "print(\"B\\n\",B)"
   ]
  },
  {
   "cell_type": "code",
   "execution_count": 41,
   "metadata": {},
   "outputs": [
    {
     "name": "stdout",
     "output_type": "stream",
     "text": [
      "My answer\n",
      " [ 2. -2.  1.  1. -1.]\n",
      "linalg.solve\n",
      " [ 2. -2.  1.  1. -1.]\n"
     ]
    }
   ],
   "source": [
    "# 후진대입\n",
    "n = len(B)\n",
    "x = np.zeros(n)\n",
    "\n",
    "for k in range(n-1,-1,-1):\n",
    "    x[k] = (B[k] - np.dot(A[k,k+1:n],x[k+1:n])) / A[k,k]\n",
    "\n",
    "\n",
    "print(\"My answer\\n\",x)\n",
    "print(\"linalg.solve\\n\",np.linalg.solve(Acopy,Bcopy))"
   ]
  },
  {
   "cell_type": "markdown",
   "metadata": {},
   "source": [
    "## 3번"
   ]
  },
  {
   "cell_type": "markdown",
   "metadata": {},
   "source": [
    "#### 하삼각행렬 / 전진대입"
   ]
  },
  {
   "cell_type": "code",
   "execution_count": 2,
   "metadata": {},
   "outputs": [],
   "source": [
    "# 하삼각행렬\n",
    "def gauss_down(a,b):\n",
    "    n = len(b)\n",
    "    x = np.zeros(n)\n",
    "    for k in range(n-1,0,-1): \n",
    "        for i in range(k-1,-1,-1):\n",
    "            if a[i,k] != 0.0:\n",
    "                lam = a[i,k] / a[k,k]\n",
    "                \n",
    "                a[i,0:k+1] = a[i,0:k+1] - lam * a[k,0:k+1]\n",
    "                b[i] = b[i] - lam * b[k]\n",
    "    for k in range(0,n):\n",
    "            x[k] = ( b[k] - np.dot(a[k,0:k],x[0:k]) ) / a[k,k]\n",
    "        \n",
    "    return x"
   ]
  },
  {
   "cell_type": "code",
   "execution_count": 3,
   "metadata": {},
   "outputs": [
    {
     "name": "stdout",
     "output_type": "stream",
     "text": [
      "전진대입\n",
      " [ 3.  4. -2.]\n",
      "linalg.solve\n",
      " [ 3.  4. -2.]\n"
     ]
    }
   ],
   "source": [
    "import numpy as np\n",
    "\n",
    "A = np.array([[1,2,4],\n",
    "              [3,8,14],\n",
    "              [2,6,13]], dtype = 'f8')\n",
    "\n",
    "B = np.array([3,13,4], dtype = 'f8')\n",
    "Acopy = A.copy()\n",
    "Bcopy = B.copy()\n",
    "\n",
    "print(\"전진대입\\n\",gauss_down(A,B))\n",
    "\n",
    "print(\"linalg.solve\\n\",np.linalg.solve(Acopy,Bcopy))"
   ]
  },
  {
   "cell_type": "markdown",
   "metadata": {},
   "source": [
    "#### 상삼각행렬 / 후진대입"
   ]
  },
  {
   "cell_type": "code",
   "execution_count": 4,
   "metadata": {},
   "outputs": [],
   "source": [
    "# 상삼각행렬\n",
    "def gauss_up(a,b):\n",
    "    n = len(b)\n",
    "    x = np.zeros(n)\n",
    "    for k in range(0,n):\n",
    "        for i in range(k+1,n): \n",
    "            if a[i,k] != 0.0:\n",
    "                lam = a[i,k] / a[k,k] \n",
    "                a[i,k+1:n] = a[i,k+1:n] - lam*a[k,k+1:n] \n",
    "                b[i] = b[i] - lam*b[k]\n",
    "\n",
    "    for k in range(n-1,-1,-1):\n",
    "        x[k] = (b[k] - np.dot(a[k,k+1:n],x[k+1:n])) / a[k,k]\n",
    "    return x"
   ]
  },
  {
   "cell_type": "code",
   "execution_count": 5,
   "metadata": {},
   "outputs": [
    {
     "name": "stdout",
     "output_type": "stream",
     "text": [
      "후진대입\n",
      " [ 3.  4. -2.]\n"
     ]
    }
   ],
   "source": [
    "import numpy as np\n",
    "\n",
    "A = np.array([[1,2,4],\n",
    "              [3,8,14],\n",
    "              [2,6,13]], dtype ='f8')\n",
    "\n",
    "B = np.array([3,13,4],dtype ='f8')\n",
    "\n",
    "print(\"후진대입\\n\",gauss_up(A,B))"
   ]
  },
  {
   "cell_type": "markdown",
   "metadata": {},
   "source": [
    "## 4번"
   ]
  },
  {
   "cell_type": "code",
   "execution_count": 22,
   "metadata": {},
   "outputs": [],
   "source": [
    "import numpy as np\n",
    "\n",
    "\n",
    "def LUdecomp_solve(a,b):\n",
    "    n = len(a)\n",
    "    x = np.zeros(n)\n",
    "    y = np.zeros(n)\n",
    "    L = np.eye(n) # doolittle\n",
    "    U = a.copy()\n",
    "    for k in range(0,n-1):\n",
    "        for i in range(k+1,n):\n",
    "            if a[i,k] != 0.0:\n",
    "                lam = a[i,k] / a[k,k]\n",
    "                a[i,k+1:n] = a[i,k+1:n] - lam *a[k,k+1:n]\n",
    "              \n",
    "                lam = U[i,k] / U[k,k]\n",
    "                U[i,k+1:n] = U[i,k+1:n] - lam *U[k,k+1:n]\n",
    "                \n",
    "                a[i,k] = lam\n",
    "                L[i,k] = lam\n",
    "                U[i,k] = 0\n",
    "    print('L\\n',L)\n",
    "    print('U\\n',U)\n",
    "    y[0] = b[0]\n",
    "    for k in range(1,n):\n",
    "        y[k] = b[k] - np.dot(a[k,0:k],y[0:k])\n",
    "    print(y)\n",
    "    for k in range(n-1,-1,-1):\n",
    "        x[k] = (y[k] - np.dot(a[k,k+1:n],x[k+1:n]) ) / a[k,k]\n",
    "        \n",
    "    return x"
   ]
  },
  {
   "cell_type": "code",
   "execution_count": 23,
   "metadata": {},
   "outputs": [
    {
     "name": "stdout",
     "output_type": "stream",
     "text": [
      "L\n",
      " [[1. 0. 0.]\n",
      " [3. 1. 0.]\n",
      " [2. 1. 1.]]\n",
      "U\n",
      " [[1. 2. 4.]\n",
      " [0. 2. 2.]\n",
      " [0. 0. 3.]]\n",
      "[ 3.  4. -6.]\n",
      "[ 0.  0. -2.]\n",
      "[ 0.  4. -2.]\n",
      "[ 3.  4. -2.]\n",
      "LU decomposition and solve\n",
      " [ 3.  4. -2.]\n",
      "linalg.solve\n",
      " [ 3.  4. -2.]\n"
     ]
    }
   ],
   "source": [
    "\n",
    "A = np.array([[1,2,4],\n",
    "              [3,8,14],\n",
    "              [2,6,13]],dtype='f8')\n",
    "\n",
    "B = np.array([3,13,4],dtype='f8')\n",
    "\n",
    "Ac = A.copy()\n",
    "Bc = B.copy()\n",
    "\n",
    "\n",
    "print(\"LU decomposition and solve\\n\",LUdecomp_solve(A,B))\n",
    "print(\"linalg.solve\\n\",np.linalg.solve(Ac,Bc))"
   ]
  },
  {
   "cell_type": "markdown",
   "metadata": {},
   "source": [
    "## 5번"
   ]
  },
  {
   "cell_type": "code",
   "execution_count": 9,
   "metadata": {},
   "outputs": [
    {
     "name": "stdout",
     "output_type": "stream",
     "text": [
      "L\n",
      " [[ 1.  0.  0.  0.]\n",
      " [-1.  1.  0.  0.]\n",
      " [ 0. -1.  1.  0.]\n",
      " [ 0.  0. -1.  1.]]\n",
      "U\n",
      " [[ 1  0  0 10]\n",
      " [ 0  1  0 14]\n",
      " [ 0  0  1 19]\n",
      " [ 0  0  0 25]]\n",
      "LU분해\n",
      " [34.67742709 47.01630903 66.27013368  1.04502228]\n",
      "linalg.solve\n",
      " [34.67742709 47.01630903 66.27013368  1.04502228]\n",
      "\n",
      "T1 =  34.67742708513928 \n",
      "T2 = 47.01630903295704 \n",
      "T3 =  66.27013368332412 \n",
      "a =  1.04502228055402\n"
     ]
    }
   ],
   "source": [
    "import numpy as np\n",
    "\n",
    "m1 = 10; m2 = 4; m3 = 5; m4 = 6 # kg\n",
    "mu1 = 0.25; mu2 = 0.3; mu3 = 0.2 \n",
    "g = 10 # m/s^2\n",
    "theta = 40 * np.pi / 180 # rad\n",
    "\n",
    "# X = ( T1, T2, T3, a)\n",
    "\n",
    "A = np.array([[1, 0, 0, m1],\n",
    "              [-1, 1, 0, m2],\n",
    "              [0, -1, 1, m3],\n",
    "              [0, 0, -1, m4]])\n",
    "\n",
    "B = np.array([(m1 * g * (np.sin(theta) - mu1 * np.cos(theta)) ),\n",
    "             (m2 * g * (np.sin(theta) - mu2 * np.cos(theta)) ),\n",
    "             (m3 * g * (np.sin(theta) - mu3 * np.cos(theta)) ),\n",
    "              (-m4 * g)])\n",
    "\n",
    "ac = A.copy()\n",
    "bc = B.copy()\n",
    "\n",
    "\n",
    "C = np.linalg.solve(A,B)\n",
    "T1 = C[0]; T2 = C[1]; T3 = C[2]; a = C[3]\n",
    "\n",
    "\n",
    "\n",
    "print('LU분해\\n',LUdecomp_solve(ac,bc))\n",
    "print('linalg.solve\\n',C)\n",
    "print('\\nT1 = ',T1,'\\nT2 =',T2,'\\nT3 = ', T3,'\\na = ', a)"
   ]
  },
  {
   "cell_type": "markdown",
   "metadata": {},
   "source": [
    "### 마찰 x"
   ]
  },
  {
   "cell_type": "code",
   "execution_count": 10,
   "metadata": {
    "scrolled": true
   },
   "outputs": [
    {
     "name": "stdout",
     "output_type": "stream",
     "text": [
      "L\n",
      " [[ 1.  0.  0.  0.]\n",
      " [-1.  1.  0.  0.]\n",
      " [ 0. -1.  1.  0.]\n",
      " [ 0.  0. -1.  1.]]\n",
      "U\n",
      " [[ 1  0  0 10]\n",
      " [ 0  1  0 14]\n",
      " [ 0  0  1 19]\n",
      " [ 0  0  0 25]]\n",
      "LU분해\n",
      " [39.42690263 55.19766369 74.911115    2.48518583]\n",
      "linalg.solve\n",
      " [39.42690263 55.19766369 74.911115    2.48518583]\n",
      "\n",
      "T1 =  39.42690263247694 \n",
      "T2 = 55.197663685467724 \n",
      "T3 =  74.9111150017062 \n",
      "a =  2.4851858336176984\n"
     ]
    }
   ],
   "source": [
    "import numpy as np\n",
    "\n",
    "m1 = 10; m2 = 4; m3 = 5; m4 = 6 # kg\n",
    "g = 10 # m/s^2\n",
    "theta = 40 * np.pi / 180 # rad\n",
    "\n",
    "# X = ( T1, T2, T3, a)\n",
    "\n",
    "A = np.array([[1, 0, 0, m1],\n",
    "              [-1, 1, 0, m2],\n",
    "              [0, -1, 1, m3],\n",
    "              [0, 0, -1, m4]])\n",
    "\n",
    "B = np.array([(m1 * g * (np.sin(theta)) ),\n",
    "             (m2 * g * (np.sin(theta)) ),\n",
    "             (m3 * g * (np.sin(theta)) ),\n",
    "              (-m4 * g)])\n",
    "\n",
    "\n",
    "ac = A.copy()\n",
    "bc = B.copy()\n",
    "\n",
    "\n",
    "C = np.linalg.solve(A,B)\n",
    "T1 = C[0]; T2 = C[1]; T3 = C[2]; a = C[3]\n",
    "\n",
    "\n",
    "\n",
    "print('LU분해\\n',LUdecomp_solve(A,B))\n",
    "\n",
    "\n",
    "\n",
    "print('linalg.solve\\n',np.linalg.solve(ac,bc))\n",
    "print('\\nT1 = ',T1,'\\nT2 =',T2,'\\nT3 = ', T3,'\\na = ', a)"
   ]
  },
  {
   "cell_type": "code",
   "execution_count": null,
   "metadata": {},
   "outputs": [],
   "source": []
  }
 ],
 "metadata": {
  "kernelspec": {
   "display_name": "Python 3",
   "language": "python",
   "name": "python3"
  },
  "language_info": {
   "codemirror_mode": {
    "name": "ipython",
    "version": 3
   },
   "file_extension": ".py",
   "mimetype": "text/x-python",
   "name": "python",
   "nbconvert_exporter": "python",
   "pygments_lexer": "ipython3",
   "version": "3.8.5"
  }
 },
 "nbformat": 4,
 "nbformat_minor": 4
}
