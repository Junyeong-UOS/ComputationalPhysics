{
 "cells": [
  {
   "cell_type": "code",
   "execution_count": 1,
   "metadata": {},
   "outputs": [
    {
     "data": {
      "text/plain": [
       "3"
      ]
     },
     "execution_count": 1,
     "metadata": {},
     "output_type": "execute_result"
    }
   ],
   "source": [
    "a = [1,2,3]\n",
    "\n",
    "b = lambda x : a[x]\n",
    "\n",
    "b(2)"
   ]
  },
  {
   "cell_type": "code",
   "execution_count": 8,
   "metadata": {},
   "outputs": [
    {
     "data": {
      "text/plain": [
       "(0.0, 3.0)"
      ]
     },
     "execution_count": 8,
     "metadata": {},
     "output_type": "execute_result"
    },
    {
     "data": {
      "image/png": "[encoded data removed]",
      "text/plain": [
       "<Figure size 432x288 with 1 Axes>"
      ]
     },
     "metadata": {
      "needs_background": "light"
     },
     "output_type": "display_data"
    }
   ],
   "source": [
    "import numpy as np\n",
    "import matplotlib.pyplot as plt\n",
    "\n",
    "ex = np.array([1,0])\n",
    "ey = np.array([0,1])\n",
    "\n",
    "\n",
    "\n",
    "plt.arrow(0,0,ex[0],ey[1],head_width=0.2, color='r')\n",
    "plt.xlim(0,3)\n",
    "plt.ylim(0,3)"
   ]
  },
  {
   "cell_type": "code",
   "execution_count": 17,
   "metadata": {},
   "outputs": [
    {
     "name": "stdout",
     "output_type": "stream",
     "text": [
      "alpha0\n"
     ]
    },
    {
     "data": {
      "text/plain": [
       "(-1.0, 3.0)"
      ]
     },
     "execution_count": 17,
     "metadata": {},
     "output_type": "execute_result"
    },
    {
     "data": {
      "image/png": "[encoded data removed]",
      "text/plain": [
       "<Figure size 432x288 with 1 Axes>"
      ]
     },
     "metadata": {
      "needs_background": "light"
     },
     "output_type": "display_data"
    }
   ],
   "source": [
    "#alpha를 바꿔가며\n",
    "import numpy as np\n",
    "import matplotlib.pyplot as plt\n",
    "\n",
    "ex = np.array([1,0])\n",
    "ey = np.array([0,1])\n",
    "alpha = float(input('alpha'))\n",
    "\n",
    "\n",
    "plt.arrow(0,0,alpha*ex[0],ey[1],head_width=0.0, color='r')\n",
    "plt.xlim(-1,3)\n",
    "plt.ylim(-1,3)"
   ]
  },
  {
   "cell_type": "code",
   "execution_count": 3,
   "metadata": {},
   "outputs": [
    {
     "name": "stdout",
     "output_type": "stream",
     "text": [
      "alpha 1\n",
      "[[1. 1.]\n",
      " [0. 1.]]\n"
     ]
    }
   ],
   "source": [
    "import numpy as np\n",
    "alpha = float(input(\"alpha \"))\n",
    "ex = np.array([1,0])\n",
    "ey = np.array([0,1])\n",
    "\n",
    "A = np.array([[1, alpha],\n",
    "              [0,alpha]])\n",
    "print(A)\n",
    "x = np.dot(A,ey)"
   ]
  },
  {
   "cell_type": "code",
   "execution_count": 5,
   "metadata": {},
   "outputs": [
    {
     "data": {
      "image/png": "[encoded data removed]",
      "text/plain": [
       "<Figure size 432x288 with 1 Axes>"
      ]
     },
     "metadata": {
      "needs_background": "light"
     },
     "output_type": "display_data"
    }
   ],
   "source": [
    "import numpy as np\n",
    "import matplotlib.pyplot as plt\n",
    "u =np.array([1,1])\n",
    "for alpha in np.arange(-1,1,0.01):\n",
    "    A = np.array([[1, alpha],\n",
    "              [0,alpha]])\n",
    "\n",
    "    v = np.dot(A,u)\n",
    "    plt.plot(0,0,v[0],v[1],marker='o', linestyle='--')\n",
    "\n",
    "    \n",
    "plt.xlim(-3,3)\n",
    "plt.ylim(-3,3)\n",
    "plt.show()\n",
    "ex = np.array([1,0])\n",
    "ey = np.array([0,1])\n",
    "\n"
   ]
  },
  {
   "cell_type": "code",
   "execution_count": 35,
   "metadata": {},
   "outputs": [
    {
     "data": {
      "text/plain": [
       "array([2.33333333, 1.33333333])"
      ]
     },
     "execution_count": 35,
     "metadata": {},
     "output_type": "execute_result"
    }
   ],
   "source": [
    "import numpy as np\n",
    "\n",
    "A = np.array([[1,2],[0,3]])\n",
    "b = np.array([5,4])\n",
    "\n",
    "#A*x = b 를 만족하는 x 를 찾으시오.\n",
    "#가) 역행렬\n",
    "\n",
    "Ainv = np.linalg.inv(A)\n",
    "np.dot(Ainv,b)"
   ]
  },
  {
   "cell_type": "code",
   "execution_count": 42,
   "metadata": {},
   "outputs": [
    {
     "data": {
      "text/plain": [
       "array([33.33333333, 33.33333333])"
      ]
     },
     "execution_count": 42,
     "metadata": {},
     "output_type": "execute_result"
    }
   ],
   "source": [
    "import numpy as np\n",
    "\n",
    "A = np.array([[1,2],[0,3]])\n",
    "b = np.array([100,100])\n",
    "\n",
    "#A*x = b 를 만족하는 x 를 찾으시오.\n",
    "#가) 역행렬\n",
    "\n",
    "Ainv = np.linalg.inv(A)\n",
    "np.dot(Ainv,b)"
   ]
  },
  {
   "cell_type": "code",
   "execution_count": 17,
   "metadata": {},
   "outputs": [
    {
     "name": "stdout",
     "output_type": "stream",
     "text": [
      "a1 =  0.09876543209876543\n",
      "a2 =  0.12345679012345678\n",
      "a1 =  0.09876543209876544\n",
      "a2 =  0.1234567901234568\n"
     ]
    }
   ],
   "source": [
    "#a1 < a2 라 가정\n",
    "# (1/2)*a1*(30**2)+(1/2)*a2*(30**2) = 100\n",
    "# (1/2)*a1*(90**2) - (1/2)*a2*(90**2) = -100\n",
    "import numpy as np\n",
    "\n",
    "t1 = 30\n",
    "t2 = 90\n",
    "\n",
    "a11 = float((1/2)*(t1**2))\n",
    "a12 = float((1/2)*(t1**2))\n",
    "a21 = float((1/2)*(t2**2))\n",
    "a22 = float(-(1/2)*(t2**2))\n",
    "\n",
    "A = np.array([[a11,a12],\n",
    "              [a21,a22]])\n",
    "b = np.array([100,-100])\n",
    "\n",
    "Ainv = np.linalg.inv(A)\n",
    "ANS = np.dot(Ainv,b)\n",
    "\n",
    "a1 = ANS[0]\n",
    "a2 = ANS[1]\n",
    "print('a1 = ', a1)\n",
    "print('a2 = ', a2)\n",
    "\n",
    "x = np.linalg.solve(A,b)\n",
    "print('a1 = ', x[0])\n",
    "print('a2 = ', x[1])"
   ]
  },
  {
   "cell_type": "code",
   "execution_count": 18,
   "metadata": {},
   "outputs": [
    {
     "data": {
      "text/plain": [
       "array([13.33333333,  6.66666667])"
      ]
     },
     "execution_count": 18,
     "metadata": {},
     "output_type": "execute_result"
    }
   ],
   "source": [
    "# A와 B가 등속 운동을 하고 있다. 서로의 초기 거리는 100미터이다. \n",
    "#서로 반대 방향으로 걸을 때 서로 만나는데 걸리는 시간은 5초, 같은 방향으로 걸을 때 걸리는 시간은 15초\n",
    "#A, B의 속도를 찾으시오.\n",
    "\n",
    "# A가 더 빠르다고 가정\n",
    "# a*t1 + b*t1 = 100 & a*t2 - b*t2 = 100\n",
    "import numpy as np\n",
    "t1 = 5\n",
    "t2 = 15\n",
    "\n",
    "A = np.array([[t1,t1],\n",
    "              [t2,-t2]])\n",
    "b = np.array([100,100])\n",
    "np.linalg.solve(A,b)"
   ]
  },
  {
   "cell_type": "code",
   "execution_count": 3,
   "metadata": {},
   "outputs": [
    {
     "name": "stdout",
     "output_type": "stream",
     "text": [
      "A 속도 = 13.333333333333334 m/s\n",
      "B 속도 = 6.666666666666666 m/s\n"
     ]
    }
   ],
   "source": [
    "# A와 B가 등속 운동을 하고 있다. 서로의 초기 거리는 100미터이다. \n",
    "#서로 반대 방향으로 걸을 때 서로 만나는데 걸리는 시간은 5초, 같은 방향으로 걸을 때 걸리는 시간은 15초\n",
    "#A, B의 속도를 찾으시오.\n",
    "\n",
    "# A가 더 빠르다고 가정\n",
    "# a*t1 + b*t1 = 100 & a*t2 - b*t2 = 100\n",
    "import numpy as np\n",
    "t1 = 5\n",
    "t2 = 15\n",
    "\n",
    "A = np.array([[t1,t1],\n",
    "              [t2,-t2]])\n",
    "b = np.array([100,100])\n",
    "\n",
    "Ainv = np.linalg.inv(A)\n",
    "ANS = np.dot(Ainv,b)\n",
    "\n",
    "a = ANS[0]\n",
    "b = ANS[1]\n",
    "\n",
    "print('A 속도 =', a, 'm/s')\n",
    "print('B 속도 =', b, 'm/s')\n"
   ]
  },
  {
   "cell_type": "code",
   "execution_count": 29,
   "metadata": {},
   "outputs": [
    {
     "data": {
      "text/plain": [
       "4"
      ]
     },
     "execution_count": 29,
     "metadata": {},
     "output_type": "execute_result"
    }
   ],
   "source": [
    "import numpy as np\n",
    "\n",
    "a = np.array([[5,15],\n",
    "              [15,-10]])\n",
    "# (i,j) ) (행, 열)\n",
    "for j in range(0,n-1):\n",
    "    for i in range(0,):\n",
    "        if i == j:\n",
    "            continue\n",
    "        if a[i,j] == 0:\n",
    "            continue\n",
    "\n",
    "    \n",
    "    \n"
   ]
  }
 ],
 "metadata": {
  "kernelspec": {
   "display_name": "Python 3",
   "language": "python",
   "name": "python3"
  },
  "language_info": {
   "codemirror_mode": {
    "name": "ipython",
    "version": 3
   },
   "file_extension": ".py",
   "mimetype": "text/x-python",
   "name": "python",
   "nbconvert_exporter": "python",
   "pygments_lexer": "ipython3",
   "version": "3.8.5"
  }
 },
 "nbformat": 4,
 "nbformat_minor": 4
}
