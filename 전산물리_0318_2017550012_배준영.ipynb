{
 "cells": [
  {
   "cell_type": "code",
   "execution_count": 5,
   "metadata": {},
   "outputs": [
    {
     "ename": "ModuleNotFoundError",
     "evalue": "No module named 'ch2'",
     "output_type": "error",
     "traceback": [
      "\u001b[1;31m---------------------------------------------------------------------------\u001b[0m",
      "\u001b[1;31mModuleNotFoundError\u001b[0m                       Traceback (most recent call last)",
      "\u001b[1;32m<ipython-input-5-38903afdabf9>\u001b[0m in \u001b[0;36m<module>\u001b[1;34m\u001b[0m\n\u001b[1;32m----> 1\u001b[1;33m \u001b[1;32mfrom\u001b[0m \u001b[0mch2\u001b[0m \u001b[1;32mimport\u001b[0m \u001b[1;33m*\u001b[0m\u001b[1;33m\u001b[0m\u001b[1;33m\u001b[0m\u001b[0m\n\u001b[0m\u001b[0;32m      2\u001b[0m \u001b[1;32mfrom\u001b[0m \u001b[0mscipy\u001b[0m\u001b[1;33m.\u001b[0m\u001b[0mlinalg\u001b[0m \u001b[1;32mimport\u001b[0m \u001b[1;33m*\u001b[0m\u001b[1;33m\u001b[0m\u001b[1;33m\u001b[0m\u001b[0m\n\u001b[0;32m      3\u001b[0m \u001b[1;32mimport\u001b[0m \u001b[0mnumpy\u001b[0m \u001b[1;32mas\u001b[0m \u001b[0mnp\u001b[0m\u001b[1;33m\u001b[0m\u001b[1;33m\u001b[0m\u001b[0m\n\u001b[0;32m      4\u001b[0m \u001b[1;33m\u001b[0m\u001b[0m\n\u001b[0;32m      5\u001b[0m a = np.array([[3.0 , -1.0, 4.0],\n",
      "\u001b[1;31mModuleNotFoundError\u001b[0m: No module named 'ch2'"
     ]
    }
   ],
   "source": [
    "from ch2 import *\n",
    "from scipy.linalg import *\n",
    "import numpy as np\n",
    "\n",
    "a = np.array([[3.0 , -1.0, 4.0],\n",
    "             [-2.0,0.0,5.0],\n",
    "             [7.0, 2.0,-2.0]])\n",
    "\n",
    "\n",
    "b = np.array([[6.0,3.0,7.0],\n",
    "              [-4.0,2,0,-5.0]])"
   ]
  },
  {
   "cell_type": "code",
   "execution_count": 73,
   "metadata": {},
   "outputs": [
    {
     "ename": "ValueError",
     "evalue": "incompatible dimensions.",
     "output_type": "error",
     "traceback": [
      "\u001b[1;31m---------------------------------------------------------------------------\u001b[0m",
      "\u001b[1;31mValueError\u001b[0m                                Traceback (most recent call last)",
      "\u001b[1;32m<ipython-input-73-d4ac6f86707e>\u001b[0m in \u001b[0;36m<module>\u001b[1;34m\u001b[0m\n\u001b[0;32m      1\u001b[0m \u001b[0mlu\u001b[0m\u001b[1;33m,\u001b[0m \u001b[0mpiv\u001b[0m \u001b[1;33m=\u001b[0m \u001b[0mlu_factor\u001b[0m\u001b[1;33m(\u001b[0m\u001b[0ma\u001b[0m\u001b[1;33m)\u001b[0m\u001b[1;33m\u001b[0m\u001b[1;33m\u001b[0m\u001b[0m\n\u001b[1;32m----> 2\u001b[1;33m \u001b[0mlu_solve\u001b[0m\u001b[1;33m(\u001b[0m\u001b[1;33m(\u001b[0m\u001b[0mlu\u001b[0m\u001b[1;33m,\u001b[0m\u001b[0mpiv\u001b[0m\u001b[1;33m)\u001b[0m\u001b[1;33m,\u001b[0m\u001b[0mb\u001b[0m\u001b[1;33m.\u001b[0m\u001b[0mT\u001b[0m\u001b[1;33m)\u001b[0m\u001b[1;33m\u001b[0m\u001b[1;33m\u001b[0m\u001b[0m\n\u001b[0m",
      "\u001b[1;32mD:\\ANACONDA\\lib\\site-packages\\scipy\\linalg\\decomp_lu.py\u001b[0m in \u001b[0;36mlu_solve\u001b[1;34m(lu_and_piv, b, trans, overwrite_b, check_finite)\u001b[0m\n\u001b[0;32m    138\u001b[0m     \u001b[0moverwrite_b\u001b[0m \u001b[1;33m=\u001b[0m \u001b[0moverwrite_b\u001b[0m \u001b[1;32mor\u001b[0m \u001b[0m_datacopied\u001b[0m\u001b[1;33m(\u001b[0m\u001b[0mb1\u001b[0m\u001b[1;33m,\u001b[0m \u001b[0mb\u001b[0m\u001b[1;33m)\u001b[0m\u001b[1;33m\u001b[0m\u001b[1;33m\u001b[0m\u001b[0m\n\u001b[0;32m    139\u001b[0m     \u001b[1;32mif\u001b[0m \u001b[0mlu\u001b[0m\u001b[1;33m.\u001b[0m\u001b[0mshape\u001b[0m\u001b[1;33m[\u001b[0m\u001b[1;36m0\u001b[0m\u001b[1;33m]\u001b[0m \u001b[1;33m!=\u001b[0m \u001b[0mb1\u001b[0m\u001b[1;33m.\u001b[0m\u001b[0mshape\u001b[0m\u001b[1;33m[\u001b[0m\u001b[1;36m0\u001b[0m\u001b[1;33m]\u001b[0m\u001b[1;33m:\u001b[0m\u001b[1;33m\u001b[0m\u001b[1;33m\u001b[0m\u001b[0m\n\u001b[1;32m--> 140\u001b[1;33m         \u001b[1;32mraise\u001b[0m \u001b[0mValueError\u001b[0m\u001b[1;33m(\u001b[0m\u001b[1;34m\"incompatible dimensions.\"\u001b[0m\u001b[1;33m)\u001b[0m\u001b[1;33m\u001b[0m\u001b[1;33m\u001b[0m\u001b[0m\n\u001b[0m\u001b[0;32m    141\u001b[0m \u001b[1;33m\u001b[0m\u001b[0m\n\u001b[0;32m    142\u001b[0m     \u001b[0mgetrs\u001b[0m\u001b[1;33m,\u001b[0m \u001b[1;33m=\u001b[0m \u001b[0mget_lapack_funcs\u001b[0m\u001b[1;33m(\u001b[0m\u001b[1;33m(\u001b[0m\u001b[1;34m'getrs'\u001b[0m\u001b[1;33m,\u001b[0m\u001b[1;33m)\u001b[0m\u001b[1;33m,\u001b[0m \u001b[1;33m(\u001b[0m\u001b[0mlu\u001b[0m\u001b[1;33m,\u001b[0m \u001b[0mb1\u001b[0m\u001b[1;33m)\u001b[0m\u001b[1;33m)\u001b[0m\u001b[1;33m\u001b[0m\u001b[1;33m\u001b[0m\u001b[0m\n",
      "\u001b[1;31mValueError\u001b[0m: incompatible dimensions."
     ]
    }
   ],
   "source": [
    "lu, piv = lu_factor(a)\n",
    "lu_solve((lu,piv),b.T)"
   ]
  },
  {
   "cell_type": "markdown",
   "metadata": {},
   "source": [
    "### ----------------------------------------------------"
   ]
  },
  {
   "cell_type": "code",
   "execution_count": 21,
   "metadata": {},
   "outputs": [
    {
     "data": {
      "text/plain": [
       "array([1., 1., 1.])"
      ]
     },
     "execution_count": 21,
     "metadata": {},
     "output_type": "execute_result"
    }
   ],
   "source": [
    "import numpy as np\n",
    "\n",
    "amat = np.array([[3.0 , -1.0, 4.0],\n",
    "             [-2.0,0.0,5.0],\n",
    "             [7.0, 2.0,-2.0]])\n",
    "\n",
    "b = np.array([6.0,3.0,7.0])\n",
    "\n",
    "a = amat.copy()\n",
    "\n",
    "np.linalg.solve(amat,b)"
   ]
  },
  {
   "cell_type": "code",
   "execution_count": 22,
   "metadata": {},
   "outputs": [
    {
     "name": "stdout",
     "output_type": "stream",
     "text": [
      "[[ 3.         -1.          4.        ]\n",
      " [ 0.         -0.66666667  7.66666667]\n",
      " [ 0.          0.         38.5       ]]\n",
      "U [[ 3.         -1.          4.        ]\n",
      " [ 0.         -0.66666667  7.66666667]\n",
      " [ 0.          0.         38.5       ]]\n",
      "-0.6666666666666666 2.3333333333333335 -6.500000000000001\n",
      "L [[ 1.          0.          0.        ]\n",
      " [-0.66666667  1.          0.        ]\n",
      " [ 2.33333333 -6.5         1.        ]]\n"
     ]
    }
   ],
   "source": [
    "# LU 분해\n",
    "a = amat.copy()\n",
    "\n",
    "lam1 = a[1,0] / a[0,0]\n",
    "a[1] = a[1] - lam1 * a[0]\n",
    "\n",
    "\n",
    "lam2 = a[2,0] / a[0,0]\n",
    "a[2] = a[2] - lam2 * a[0]\n",
    "\n",
    "\n",
    "lam3 = a[2,1] / a[1,1]\n",
    "a[2] = a[2] - lam3 * a[1]\n",
    "print(a)\n",
    "\n",
    "U = a.copy()\n",
    "print('U',U)\n",
    "L = np.zeros([3,3])\n",
    "\n",
    "#L = L + np.diag([1,1,1])\n",
    "\n",
    "L = L + np.eye(3)\n",
    "\n",
    "\n",
    "L[1,0] = lam1\n",
    "L[2,0] = lam2\n",
    "L[2,1] = lam3\n",
    "\n",
    "print(lam1,lam2,lam3)\n",
    "print('L',L)"
   ]
  },
  {
   "cell_type": "code",
   "execution_count": 27,
   "metadata": {},
   "outputs": [
    {
     "name": "stdout",
     "output_type": "stream",
     "text": [
      "y [ 6.   7.  38.5]\n",
      "[1. 1. 1.]\n"
     ]
    }
   ],
   "source": [
    "n = len(b)\n",
    "\n",
    "# 전진대입\n",
    "y = np.zeros(n)\n",
    "\n",
    "y[0] = b[0]\n",
    "\n",
    "for k in range(1,n):\n",
    "    y[k] = b[k] - np.dot(L[k,0:k],y[0:k])\n",
    "\n",
    "\n",
    "print('y',y)\n",
    "# 후진대입\n",
    "x = np.zeros(n)\n",
    "\n",
    "#y1 = y.copy()\n",
    "\n",
    "for k in range(n-1,-1,-1):\n",
    "    x[k] = (y[k] - np.dot(U[k,k+1:n],x[k+1:n])) / U[k,k]\n",
    "\n",
    "\n",
    "print(x)"
   ]
  },
  {
   "cell_type": "markdown",
   "metadata": {},
   "source": [
    "### -------------------------------------------"
   ]
  },
  {
   "cell_type": "code",
   "execution_count": 57,
   "metadata": {},
   "outputs": [
    {
     "data": {
      "text/plain": [
       "'\\nAx = b\\n\\nLUx = b\\n\\nLy = b\\n\\nUx = y\\n\\n'"
      ]
     },
     "execution_count": 57,
     "metadata": {},
     "output_type": "execute_result"
    }
   ],
   "source": [
    "\"\"\"\n",
    "Ax = b\n",
    "\n",
    "LUx = b\n",
    "\n",
    "Ly = b\n",
    "\n",
    "Ux = y\n",
    "\n",
    "\"\"\""
   ]
  },
  {
   "cell_type": "code",
   "execution_count": 35,
   "metadata": {},
   "outputs": [
    {
     "data": {
      "text/plain": [
       "array([ 5.,  1., -2.])"
      ]
     },
     "execution_count": 35,
     "metadata": {},
     "output_type": "execute_result"
    }
   ],
   "source": [
    "import numpy as np\n",
    "\n",
    "a = np.array([[1,4,1],\n",
    "              [1,6,-1],\n",
    "              [2,-1,2]])\n",
    "\n",
    "b = np.array([7,13,5])\n",
    "\n",
    "np.linalg.solve(a,b)"
   ]
  },
  {
   "cell_type": "code",
   "execution_count": 36,
   "metadata": {},
   "outputs": [
    {
     "name": "stdout",
     "output_type": "stream",
     "text": [
      "U [[ 1  4  1]\n",
      " [ 0  2 -2]\n",
      " [ 0  0 -9]]\n",
      "1.0 2.0 -4.5\n",
      "L [[ 1.   0.   0. ]\n",
      " [ 1.   1.   0. ]\n",
      " [ 2.  -4.5  1. ]]\n",
      "[[ 1.  4.  1.]\n",
      " [ 1.  6. -1.]\n",
      " [ 2. -1.  2.]]\n"
     ]
    }
   ],
   "source": [
    "amat = a.copy()\n",
    "lam1 = a[1,0] / a[0,0]\n",
    "a[1] = a[1] - lam1 * a[0]\n",
    "\n",
    "\n",
    "lam2 = a[2,0] / a[0,0]\n",
    "a[2] = a[2] - lam2 * a[0]\n",
    "\n",
    "\n",
    "lam3 = a[2,1] / a[1,1]\n",
    "a[2] = a[2] - lam3 * a[1]\n",
    "\n",
    "\n",
    "U = a.copy()\n",
    "print('U',U)\n",
    "L = np.zeros([3,3])\n",
    "L = L + np.eye(3)\n",
    "\n",
    "\n",
    "L[1,0] = lam1\n",
    "L[2,0] = lam2\n",
    "L[2,1] = lam3\n",
    "\n",
    "print(lam1,lam2,lam3)\n",
    "print('L',L)\n",
    "\n",
    "print(L@U)"
   ]
  },
  {
   "cell_type": "code",
   "execution_count": 37,
   "metadata": {},
   "outputs": [
    {
     "name": "stdout",
     "output_type": "stream",
     "text": [
      "x = [ 5.  1. -2.]\n"
     ]
    }
   ],
   "source": [
    "n = len(b)\n",
    "\n",
    "# 전진대입\n",
    "y = np.zeros(n)\n",
    "\n",
    "y[0] = b[0]\n",
    "\n",
    "for k in range(1,n):\n",
    "    y[k] = b[k] - np.dot(L[k,0:k],y[0:k])    \n",
    "\n",
    "\n",
    "# 후진대입\n",
    "x = np.zeros(n)\n",
    "for k in range(n-1,-1,-1):\n",
    "    x[k] = (y[k] - np.dot(U[k,k+1:n],x[k+1:n])) / U[k,k]\n",
    "\n",
    "print('x =', x)"
   ]
  },
  {
   "cell_type": "markdown",
   "metadata": {},
   "source": [
    "### -------------------------------------"
   ]
  },
  {
   "cell_type": "code",
   "execution_count": null,
   "metadata": {},
   "outputs": [],
   "source": []
  }
 ],
 "metadata": {
  "kernelspec": {
   "display_name": "Python 3",
   "language": "python",
   "name": "python3"
  },
  "language_info": {
   "codemirror_mode": {
    "name": "ipython",
    "version": 3
   },
   "file_extension": ".py",
   "mimetype": "text/x-python",
   "name": "python",
   "nbconvert_exporter": "python",
   "pygments_lexer": "ipython3",
   "version": "3.8.5"
  }
 },
 "nbformat": 4,
 "nbformat_minor": 4
}
