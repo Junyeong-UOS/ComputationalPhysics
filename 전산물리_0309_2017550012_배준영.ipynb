{
 "cells": [
  {
   "cell_type": "code",
   "execution_count": 9,
   "metadata": {},
   "outputs": [
    {
     "name": "stdout",
     "output_type": "stream",
     "text": [
      "[[0.60090386 0.57566048 0.62900099 0.91501522]\n",
      " [0.36346673 0.45528552 0.88328294 0.21423544]\n",
      " [0.32031953 0.17826784 0.14630612 0.97559371]]\n"
     ]
    }
   ],
   "source": [
    "import numpy as np\n",
    "\n",
    "A =np.random.rand(3,4)\n",
    "b = A[:,3]\n",
    "\n",
    "print(A)"
   ]
  },
  {
   "cell_type": "code",
   "execution_count": 14,
   "metadata": {},
   "outputs": [
    {
     "name": "stdout",
     "output_type": "stream",
     "text": [
      "[[0.60090386 0.57566048 0.62900099]\n",
      " [0.36346673 0.45528552 0.88328294]\n",
      " [0.32031953 0.17826784 0.14630612]]\n"
     ]
    }
   ],
   "source": [
    "a = A[0:3,0:3]\n",
    "n = a.shape[0]\n",
    "n = len(a)\n",
    "print(a)"
   ]
  },
  {
   "cell_type": "code",
   "execution_count": 13,
   "metadata": {},
   "outputs": [
    {
     "name": "stdout",
     "output_type": "stream",
     "text": [
      "[[ 1  2  3]\n",
      " [ 2 -5 -8]\n",
      " [ 3 -2  8]]\n"
     ]
    }
   ],
   "source": [
    "aa = a.copy()\n",
    "print(aa)"
   ]
  },
  {
   "cell_type": "markdown",
   "metadata": {},
   "source": [
    "### ----------------------------"
   ]
  },
  {
   "cell_type": "code",
   "execution_count": 92,
   "metadata": {},
   "outputs": [
    {
     "name": "stdout",
     "output_type": "stream",
     "text": [
      "3\n"
     ]
    }
   ],
   "source": [
    "import numpy as np\n",
    "a = np.array([[1.0,1.0,1.0],\n",
    "              [2.0,1.0,2.0],\n",
    "             [3.0,1.0,4.0]])\n",
    "n = a.shape[0]\n",
    "print(n)"
   ]
  },
  {
   "cell_type": "code",
   "execution_count": 2,
   "metadata": {},
   "outputs": [],
   "source": [
    "import numpy as np\n",
    "\n",
    "A =np.random.rand(3,4)\n",
    "b = A[:,3]\n",
    "a = A[0:3,0:3]\n",
    "aa = a.copy()\n",
    "b = A[:,3]\n",
    "bb = b.copy()\n",
    "\n",
    "x = np.zeros(len(b))\n",
    "n = len(a)"
   ]
  },
  {
   "cell_type": "code",
   "execution_count": 127,
   "metadata": {},
   "outputs": [],
   "source": [
    "for k in range(0,n-1):\n",
    "    for i in range(k+1,n):\n",
    "        if a[i,k] != 0.0:\n",
    "            #print('loop',i,k)\n",
    "            \n",
    "            lam = a[i,k] / a[k,k]\n",
    "            #a[i,k] = 0.0\n",
    "            a[i,k:n] = a[i,k:n] - lam*a[k,k:n]\n",
    "            \n",
    "            b[i] = b[i] - lam*b[k]\n",
    "for k in range(n-1,-1,-1):\n",
    "    x[k] = (b[k] - (np.dot(a[k,k+1:n], x[k+1:n]))) / a[k,k]  #j = k+!, ... , n\n",
    "    "
   ]
  },
  {
   "cell_type": "code",
   "execution_count": 128,
   "metadata": {},
   "outputs": [
    {
     "name": "stdout",
     "output_type": "stream",
     "text": [
      "[[ 7.46057516e-01  1.69686796e-01  7.67829670e-02]\n",
      " [-1.11022302e-16  9.44857999e-02  8.62317161e-01]\n",
      " [ 1.11022302e-16  0.00000000e+00 -2.75366311e+00]]\n",
      "[[0.74605752 0.1696868  0.07678297]\n",
      " [0.8180201  0.2805401  0.94650639]\n",
      " [0.85555383 0.59329637 0.9731406 ]]\n",
      "[-0.34625737  1.42046114  0.27113634]\n",
      "[-0.34625737  1.42046114  0.27113634]\n"
     ]
    }
   ],
   "source": [
    "print(a)\n",
    "print(aa)\n",
    "print(np.linalg.solve(aa,bb))\n",
    "print(x)"
   ]
  },
  {
   "cell_type": "markdown",
   "metadata": {},
   "source": [
    "####  ====================="
   ]
  },
  {
   "cell_type": "code",
   "execution_count": 6,
   "metadata": {},
   "outputs": [
    {
     "name": "stdout",
     "output_type": "stream",
     "text": [
      "10.829761028289795\n"
     ]
    }
   ],
   "source": [
    "import time\n",
    "import numpy as np\n",
    "time_start = time.time()\n",
    "\n",
    "A = np.zeros((4000,4000))\n",
    "\n",
    "for i in range(4000):\n",
    "    for j in range(4000):\n",
    "        A[i,j] = A[i,j] + 1\n",
    "time_finish = time.time()\n",
    "\n",
    "print(time_finish - time_start)"
   ]
  },
  {
   "cell_type": "code",
   "execution_count": 26,
   "metadata": {},
   "outputs": [
    {
     "name": "stdout",
     "output_type": "stream",
     "text": [
      "0.13799810409545898\n"
     ]
    }
   ],
   "source": [
    "import time\n",
    "import numpy as np\n",
    "time_start = time.time()\n",
    "\n",
    "A = np.zeros((4000,4000))\n",
    "A = A + np.ones((4000,4000))\n",
    "time_finish = time.time()\n",
    "print(time_finish - time_start)"
   ]
  },
  {
   "cell_type": "code",
   "execution_count": 3,
   "metadata": {},
   "outputs": [
    {
     "data": {
      "text/plain": [
       "array([ 0.22274753, -0.79992403,  1.05144592])"
      ]
     },
     "execution_count": 3,
     "metadata": {},
     "output_type": "execute_result"
    }
   ],
   "source": [
    "def Gauss(a,b):\n",
    "    n = len(b)\n",
    "    for k in range(0,n-1):\n",
    "        for i in range(k+1,n):\n",
    "            if a[i,k] != 0.0:\n",
    "                lam = a[i,k] / a[k,k]\n",
    "                a[i,k+1:n] = a[i,k+1:n] - lam*a[k,k+1:n]\n",
    "                b[i] = b[i] - lam*b[k]\n",
    "            \n",
    "    for k in range(n-1,-1,-1):\n",
    "        b[k]  = (b[k] - np.dot((a[k,k+1:n]),b[k+1:n])) / a[k,k]\n",
    "    return b\n",
    "\n",
    "Gauss(A,b)"
   ]
  },
  {
   "cell_type": "markdown",
   "metadata": {},
   "source": [
    "# ---- upper"
   ]
  },
  {
   "cell_type": "code",
   "execution_count": 1,
   "metadata": {
    "scrolled": true
   },
   "outputs": [
    {
     "name": "stdout",
     "output_type": "stream",
     "text": [
      "[[0.29170703 0.50295924 0.75742684]\n",
      " [0.96251305 0.4751928  0.62053353]\n",
      " [0.61109439 0.09030754 0.28064275]]\n"
     ]
    }
   ],
   "source": [
    "import numpy as np\n",
    "\n",
    "A =np.random.rand(3,4)\n",
    "b = A[:,3]\n",
    "a = A[0:3,0:3]\n",
    "aa = a.copy()\n",
    "b = A[:,3]\n",
    "bb = b.copy()\n",
    "\n",
    "x = np.zeros(len(b))\n",
    "n = len(a)\n",
    "print(a)"
   ]
  },
  {
   "cell_type": "code",
   "execution_count": 2,
   "metadata": {},
   "outputs": [],
   "source": [
    "for k in range(n-1,0,-1):\n",
    "    for i in range(k-1,-1,-1):\n",
    "        if a[i,k] != 0.0:\n",
    "           \n",
    "            lam = a[i,k] / a[k,k]\n",
    "            a[i,k:n] = a[i,k:n] - lam*a[k,k:n]\n",
    "            \n",
    "            b[i] = b[i] - lam*b[k]\n",
    "for k in range(0,n):\n",
    "    if a[k,k] != 0:\n",
    "        x[k] = (b[k] - (np.dot(a[k,k+1:n], x[k+1:n]))) / a[k,k]  #j = k+!, ... , n\n"
   ]
  },
  {
   "cell_type": "code",
   "execution_count": 3,
   "metadata": {
    "scrolled": true
   },
   "outputs": [
    {
     "name": "stdout",
     "output_type": "stream",
     "text": [
      "[[0.29170703 0.         0.        ]\n",
      " [0.96251305 0.4751928  0.        ]\n",
      " [0.61109439 0.09030754 0.28064275]]\n",
      "[-2.39429249 -1.24334796  2.23758415]\n",
      "[ 0.7741766  -1.05228459  0.89044176]\n"
     ]
    }
   ],
   "source": [
    "print(a)\n",
    "print(x)\n",
    "print(np.linalg.solve(aa,bb))"
   ]
  },
  {
   "cell_type": "code",
   "execution_count": 4,
   "metadata": {},
   "outputs": [
    {
     "name": "stdout",
     "output_type": "stream",
     "text": [
      "[ 0.7741766  -1.05228459  0.89044176]\n"
     ]
    }
   ],
   "source": [
    "print(np.linalg.solve(aa,bb))"
   ]
  },
  {
   "cell_type": "code",
   "execution_count": 177,
   "metadata": {},
   "outputs": [
    {
     "name": "stdout",
     "output_type": "stream",
     "text": [
      "3\n"
     ]
    }
   ],
   "source": [
    "b1 = [1,2,3]\n",
    "b2 = [5,4,3]\n",
    "\n",
    "bmat = np.array([[1,2],\n",
    "               [2,3],\n",
    "               [3,4]])\n",
    "\n",
    "bmat1= np.array([b1,b2])\n",
    "bmat2 = np.vstack((b1,b2))\n",
    "c = np.shape(b2)\n",
    "print(c[0])\n",
    "\n",
    "\n",
    "def Gauss(a,b):\n",
    "    B = np.array([])\n",
    "    \n",
    "    n = len(b)\n",
    "    for k in range(0,n-1):\n",
    "        for i in range(k+1,n):\n",
    "            if a[i,k] != 0.0:\n",
    "                lam = a[i,k] / a[k,k]\n",
    "                a[i,k+1:n] = a[i,k+1:n] - lam*a[k,k+1:n]\n",
    "                b[i] = b[i] - lam*b[k]\n",
    "            \n",
    "    for k in range(n-1,-1,-1):\n",
    "        b[k]  = (b[k] - np.dot((a[k,k+1:n]),b[k+1:n])) / a[k,k]\n",
    "    return b\n"
   ]
  },
  {
   "cell_type": "code",
   "execution_count": 29,
   "metadata": {},
   "outputs": [
    {
     "data": {
      "text/plain": [
       "array([-0.50425948, -0.728104  ,  1.02778661])"
      ]
     },
     "execution_count": 29,
     "metadata": {},
     "output_type": "execute_result"
    }
   ],
   "source": [
    "def Gauss(a,b):\n",
    "    n = len(b)\n",
    "    for k in range(0,n-1):\n",
    "        for i in range(k+1,n):\n",
    "            if a[i,k] != 0.0:\n",
    "                lam = a[i,k] / a[k,k]\n",
    "                a[i,k+1:n] = a[i,k+1:n] - lam*a[k,k+1:n]\n",
    "                b[i] = b[i] - lam*b[k]\n",
    "            \n",
    "    for k in range(n-1,-1,-1):\n",
    "        b[k]  = (b[k] - np.dot((a[k,k+1:n]),b[k+1:n])) / a[k,k]\n",
    "    return b\n",
    "\n",
    "Gauss(A,b)"
   ]
  },
  {
   "cell_type": "code",
   "execution_count": null,
   "metadata": {},
   "outputs": [],
   "source": []
  }
 ],
 "metadata": {
  "kernelspec": {
   "display_name": "Python 3",
   "language": "python",
   "name": "python3"
  },
  "language_info": {
   "codemirror_mode": {
    "name": "ipython",
    "version": 3
   },
   "file_extension": ".py",
   "mimetype": "text/x-python",
   "name": "python",
   "nbconvert_exporter": "python",
   "pygments_lexer": "ipython3",
   "version": "3.8.5"
  }
 },
 "nbformat": 4,
 "nbformat_minor": 4
}
