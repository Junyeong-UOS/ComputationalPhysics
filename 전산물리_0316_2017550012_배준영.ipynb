{
 "cells": [
  {
   "cell_type": "markdown",
   "metadata": {},
   "source": [
    "## 복습"
   ]
  },
  {
   "cell_type": "markdown",
   "metadata": {},
   "source": [
    "불량조건 \n",
    "det|A| = 0 은 아니지만 거의 0에 가까움\n",
    "\n",
    "|A||A^-1| ~ 0 인 경우"
   ]
  },
  {
   "cell_type": "code",
   "execution_count": 119,
   "metadata": {},
   "outputs": [
    {
     "name": "stdout",
     "output_type": "stream",
     "text": [
      "[-250.  500.]\n",
      "0.004000000000000005\n"
     ]
    }
   ],
   "source": [
    "import numpy as np\n",
    "\n",
    "A = np.array([[2,1],\n",
    "             [2,1.002]])\n",
    "\n",
    "B = np.array([0,1])\n",
    "\n",
    "print(np.linalg.solve(A,B))\n",
    "\n",
    "detA = np.linalg.det(A)\n",
    "print(detA)"
   ]
  },
  {
   "cell_type": "code",
   "execution_count": 120,
   "metadata": {},
   "outputs": [
    {
     "name": "stdout",
     "output_type": "stream",
     "text": [
      "[[1. 0.]\n",
      " [0. 1.]]\n"
     ]
    }
   ],
   "source": [
    "A1 = np.linalg.inv(A)\n",
    "print(np.dot(A,A1))"
   ]
  },
  {
   "cell_type": "code",
   "execution_count": 121,
   "metadata": {},
   "outputs": [],
   "source": [
    "def Gauss(a,b):\n",
    "    n = len(b)\n",
    "    for k in range(0,n-1):\n",
    "        for i in range(k+1,n):\n",
    "            if a[i,k] != 0.0:\n",
    "                lam = a[i,k] / a[k,k]\n",
    "                a[i,k+1:n] = a[i,k+1:n] - lam*a[k,k+1:n]\n",
    "                b[i] = b[i] - lam*b[k]\n",
    "            \n",
    "    for k in range(n-1,-1,-1):\n",
    "        b[k]  = (b[k] - np.dot((a[k,k+1:n]),b[k+1:n])) / a[k,k]\n",
    "    return b"
   ]
  },
  {
   "cell_type": "code",
   "execution_count": 122,
   "metadata": {},
   "outputs": [
    {
     "name": "stdout",
     "output_type": "stream",
     "text": [
      "[[-14  22]\n",
      " [ 36 -18]\n",
      " [  6   7]]\n"
     ]
    }
   ],
   "source": [
    "A = np.array([[6,-4,1],\n",
    "              [-4,6,-4],\n",
    "              [1,-4,6]])\n",
    "B = np.array([[-14,22],\n",
    "              [36,-18],\n",
    "              [6,7]])\n",
    "print(B)"
   ]
  },
  {
   "cell_type": "code",
   "execution_count": 123,
   "metadata": {},
   "outputs": [
    {
     "name": "stdout",
     "output_type": "stream",
     "text": [
      "[[ 6 -4  1]\n",
      " [ 0  3 -3]\n",
      " [ 0  0  2]]\n"
     ]
    }
   ],
   "source": [
    "lam1 = A[1,0] / A[0,0]\n",
    "lam2 = A[2,0] / A[0,0]\n",
    "# A[1,0] = A[1,0] - A[0,0] * lam1\n",
    "# A[1,1] = A[1,1] - A[0,1] * lam1\n",
    "# A[1,2] = A[1,2] - A[0,2] * lam1\n",
    "\n",
    "A[1,:] = A[1,:] - A[0,:] * lam1 \n",
    "A[2,:] = A[2,:] - A[0,:] * lam2\n",
    "\n",
    "lam3 = A[2,1] / A[1,1]\n",
    "A[2,:] = A[2,:] - A[1,:] * lam3\n",
    "\n",
    "print(A)"
   ]
  },
  {
   "cell_type": "code",
   "execution_count": null,
   "metadata": {},
   "outputs": [],
   "source": [
    "lamb1 = B[1,0] / B[0,0]\n",
    "lamb2 = B[2,0] / B[0,0]\n",
    "\n",
    "B[1,:] = B[1,:] - B[0,:] * lamb1\n",
    "B[2,:] = B[2,:] - B[0,:] * lamb2\n",
    "\n",
    "\n",
    "print(B)"
   ]
  },
  {
   "cell_type": "code",
   "execution_count": 71,
   "metadata": {},
   "outputs": [
    {
     "name": "stdout",
     "output_type": "stream",
     "text": [
      "[[-14  36   6]\n",
      " [  0  38  16]]\n"
     ]
    }
   ],
   "source": [
    "B = B.T\n",
    "lamb1 = B[1,0] / B[0,0]\n",
    "#lamb2 = B[2,0] / B[0,0]\n",
    "\n",
    "B[1,:] = B[1,:] - B[0,:] * lamb1\n",
    "#B[2,:] = B[2,:] - B[0,:] * lamb2\n",
    "\n",
    "\n",
    "print(B)"
   ]
  },
  {
   "cell_type": "code",
   "execution_count": 79,
   "metadata": {},
   "outputs": [
    {
     "name": "stdout",
     "output_type": "stream",
     "text": [
      "[[-14   0]\n",
      " [ 36  38]\n",
      " [  6  16]]\n"
     ]
    }
   ],
   "source": [
    "lamb1 =  B[0,1] / B[0,0]\n",
    "\n",
    "B[:,1] = B[:,1] - B[:,0] * lamb1\n",
    "\n",
    "print(B)"
   ]
  },
  {
   "cell_type": "code",
   "execution_count": 77,
   "metadata": {},
   "outputs": [
    {
     "data": {
      "text/plain": [
       "array([[0, 0, 1]])"
      ]
     },
     "execution_count": 77,
     "metadata": {},
     "output_type": "execute_result"
    }
   ],
   "source": [
    "a = A[0:3,0:2]\n",
    "b = A[0:3,2:3]\n",
    "b1 = b.T\n",
    "Gauss(a,b1)"
   ]
  },
  {
   "cell_type": "code",
   "execution_count": 2,
   "metadata": {},
   "outputs": [
    {
     "name": "stdout",
     "output_type": "stream",
     "text": [
      "[[  6  -4   1 -14  22]\n",
      " [ -4   6  -4  36 -18]\n",
      " [  1  -4   6   6   7]]\n",
      "                             \n",
      "[[  6  -4   1 -14  22]\n",
      " [  0   3  -3  26  -3]\n",
      " [  0   0   2  34   0]]\n"
     ]
    }
   ],
   "source": [
    "import numpy as np\n",
    "A = np.array([[6,-4,1],\n",
    "              [-4,6,-4],\n",
    "              [1,-4,6]])\n",
    "B = np.array([[-14,22],\n",
    "              [36,-18],\n",
    "              [6,7]])\n",
    "\n",
    "\n",
    "C = np.hstack([A,B])\n",
    "#C0 = C.copy()\n",
    "\n",
    "\n",
    "#C1 = C0[0,:]\n",
    "#C2 = C0[1,:]\n",
    "\n",
    "#C[0,:] = C2\n",
    "#C[1,:] = C1\n",
    "\n",
    "print(C)\n",
    "\n",
    "print('                             ')\n",
    "lam1 = C[1,0] / C[0,0]\n",
    "lam2 = C[2,0] / C[0,0]\n",
    "#C[1,0] = C[1,0] - C[0,0] * lam1\n",
    "#C[1,1] = C[1,1] - C[0,1] * lam1\n",
    "#C[2,] = C[1,2] - C[0,2] * lam2\n",
    "\n",
    "C[1,:] = C[1,:] - C[0,:] * lam1 \n",
    "C[2,:] = C[2,:] - C[0,:] * lam2\n",
    "\n",
    "lam3 = C[2,1] / C[1,1]\n",
    "C[2,:] = C[2,:] - C[1,:] * lam3\n",
    "\n",
    "#lam4 = C[2,2] / C[1,2]\n",
    "#C[2,:] = C[2,:] - C[1,:] * lam4\n",
    "\n",
    "\n",
    "x3 = C[2,2]\n",
    "\n",
    "\n",
    "\n",
    "\n",
    "print(C)"
   ]
  },
  {
   "cell_type": "code",
   "execution_count": 128,
   "metadata": {},
   "outputs": [
    {
     "name": "stdout",
     "output_type": "stream",
     "text": [
      "[[ 6 -4  1]\n",
      " [-4  6 -4]\n",
      " [ 1 -4  6]]\n",
      "[[36 16  1]\n",
      " [16 36 16]\n",
      " [ 1 16 36]]\n",
      "[[ 53 -52  28]\n",
      " [-52  68 -52]\n",
      " [ 28 -52  53]]\n",
      "[[ 53 -52  28]\n",
      " [-52  68 -52]\n",
      " [ 28 -52  53]]\n"
     ]
    }
   ],
   "source": [
    "print(A)\n",
    "print(A*A)\n",
    "print(np.dot(A,A))\n",
    "print(A@A)"
   ]
  },
  {
   "cell_type": "code",
   "execution_count": null,
   "metadata": {},
   "outputs": [],
   "source": [
    "\"\"\"\n",
    "a = 1\n",
    "b = 2\n",
    "\n",
    "\n",
    "temp = a\n",
    "b = a\n",
    "b = temp\n",
    "\n",
    "a, b = b, a\n",
    "\"\"\""
   ]
  },
  {
   "cell_type": "code",
   "execution_count": 10,
   "metadata": {},
   "outputs": [
    {
     "name": "stdout",
     "output_type": "stream",
     "text": [
      "[[ 6 -4  1]\n",
      " [-4  6 -4]\n",
      " [ 1 -4  6]]\n"
     ]
    }
   ],
   "source": [
    "C = A.copy()\n",
    "print(C)"
   ]
  },
  {
   "cell_type": "code",
   "execution_count": 4,
   "metadata": {},
   "outputs": [
    {
     "data": {
      "text/plain": [
       "array([ 6, -4,  1])"
      ]
     },
     "execution_count": 4,
     "metadata": {},
     "output_type": "execute_result"
    }
   ],
   "source": [
    "C[0]"
   ]
  },
  {
   "cell_type": "code",
   "execution_count": 5,
   "metadata": {},
   "outputs": [
    {
     "data": {
      "text/plain": [
       "array([-4,  6, -4])"
      ]
     },
     "execution_count": 5,
     "metadata": {},
     "output_type": "execute_result"
    }
   ],
   "source": [
    "C[1]"
   ]
  },
  {
   "cell_type": "code",
   "execution_count": 6,
   "metadata": {},
   "outputs": [
    {
     "data": {
      "text/plain": [
       "array([[ 6, -4,  1],\n",
       "       [ 1, -4,  6]])"
      ]
     },
     "execution_count": 6,
     "metadata": {},
     "output_type": "execute_result"
    }
   ],
   "source": [
    "C[[0,2]]"
   ]
  },
  {
   "cell_type": "code",
   "execution_count": 9,
   "metadata": {},
   "outputs": [
    {
     "name": "stdout",
     "output_type": "stream",
     "text": [
      "[[ 1 -4  6]\n",
      " [-4  6 -4]\n",
      " [ 6 -4  1]]\n"
     ]
    }
   ],
   "source": [
    "C[[0,2]] = C[[2,0]]  #Row swap\n",
    "\n",
    "#C[:,[0,2]] = C[:,[2,0]] # Colunm swap\n",
    "print(C)"
   ]
  },
  {
   "cell_type": "markdown",
   "metadata": {},
   "source": [
    "A = LU\n",
    "A@X = B\n",
    "L@U@A = B\n",
    "\n",
    "L@Y = B\n",
    "Y= U@X"
   ]
  }
 ],
 "metadata": {
  "kernelspec": {
   "display_name": "Python 3",
   "language": "python",
   "name": "python3"
  },
  "language_info": {
   "codemirror_mode": {
    "name": "ipython",
    "version": 3
   },
   "file_extension": ".py",
   "mimetype": "text/x-python",
   "name": "python",
   "nbconvert_exporter": "python",
   "pygments_lexer": "ipython3",
   "version": "3.8.5"
  }
 },
 "nbformat": 4,
 "nbformat_minor": 4
}
