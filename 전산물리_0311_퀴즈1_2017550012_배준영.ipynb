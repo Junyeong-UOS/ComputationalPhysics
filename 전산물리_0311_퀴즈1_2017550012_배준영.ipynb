{
 "cells": [
  {
   "cell_type": "markdown",
   "metadata": {},
   "source": [
    "## 1번"
   ]
  },
  {
   "cell_type": "code",
   "execution_count": 1,
   "metadata": {},
   "outputs": [
    {
     "name": "stdout",
     "output_type": "stream",
     "text": [
      "[[2 3 0 ... 0 0 0]\n",
      " [1 2 3 ... 0 0 0]\n",
      " [0 1 2 ... 0 0 0]\n",
      " ...\n",
      " [0 0 0 ... 2 3 0]\n",
      " [0 0 0 ... 1 2 3]\n",
      " [0 0 0 ... 0 1 2]]\n"
     ]
    }
   ],
   "source": [
    "import numpy as np\n",
    "A = np.eye(1000, k=0, dtype = int)\n",
    "B = np.eye(1000, k=1, dtype = int)\n",
    "C = np.eye(1000, k=-1, dtype = int)\n",
    "print(2*A + 3*B + C)\n",
    "\n"
   ]
  },
  {
   "cell_type": "markdown",
   "metadata": {},
   "source": [
    "## 2번"
   ]
  },
  {
   "cell_type": "code",
   "execution_count": 2,
   "metadata": {},
   "outputs": [
    {
     "name": "stdout",
     "output_type": "stream",
     "text": [
      "x= 8.0\n",
      "y= 1.0\n"
     ]
    }
   ],
   "source": [
    "import numpy as np\n",
    "# x + 2*y = 10\n",
    "# x - 3*y = 5\n",
    "\n",
    "A = np.array([[1,2],\n",
    "               [1,-3]])\n",
    "b = np.array([10,5])\n",
    "\n",
    "ans = np.linalg.solve(A,b)\n",
    "print('x=' , ans[0])\n",
    "print('y=' , ans[1])"
   ]
  },
  {
   "cell_type": "markdown",
   "metadata": {},
   "source": [
    "## 3번"
   ]
  },
  {
   "cell_type": "code",
   "execution_count": 2,
   "metadata": {},
   "outputs": [
    {
     "name": "stdout",
     "output_type": "stream",
     "text": [
      "[ 3.06666667  1.33333333 -0.73333333  0.69333333  0.72      ]\n",
      "0.0\n",
      "4.440892098500626e-16\n",
      "-4.440892098500626e-16\n",
      "2.220446049250313e-16\n",
      "0.0\n"
     ]
    }
   ],
   "source": [
    "import numpy as np\n",
    "# 5 – s – 2p – d = 0\n",
    "# 7 – 2s + p + 3d = 0\n",
    "# 2s – 4 – f – 2g = 0\n",
    "# 2p – 2 – 2f + g = 0\n",
    "# 2d – f + 3g = 0\n",
    "A = np.array([[-1,-2,-1,0,0],\n",
    "              [-2,1,3,0,0],\n",
    "              [2,0,0,-1,-2],\n",
    "              [0,2,0,-2,1],\n",
    "              [0,0,2,-1,3]])\n",
    "B = np.array([-5,-7,4,2,0])\n",
    "c = np.linalg.solve(A,B)\n",
    "s = (c[0])\n",
    "p = (c[1])\n",
    "d = (c[2])\n",
    "f = (c[3])\n",
    "g = (c[4])\n",
    "print(c)\n",
    "print(5 - s - 2 * p - d)\n",
    "print(7 - 2*s + p + 3*d)\n",
    "print(2*s - 4 - f - 2*g)\n",
    "print(2*p - 2 - 2*f + g)\n",
    "print(2*d - f + 3*g)\n"
   ]
  },
  {
   "cell_type": "markdown",
   "metadata": {},
   "source": [
    "## 4번"
   ]
  },
  {
   "cell_type": "code",
   "execution_count": 5,
   "metadata": {
    "scrolled": true
   },
   "outputs": [
    {
     "name": "stdout",
     "output_type": "stream",
     "text": [
      "[0.93969262 0.34202014]\n"
     ]
    },
    {
     "data": {
      "text/plain": [
       "array([0.93969262, 0.34202014])"
      ]
     },
     "execution_count": 5,
     "metadata": {},
     "output_type": "execute_result"
    }
   ],
   "source": [
    "import numpy as np\n",
    "\n",
    "theta = 20 * (np.pi) / 180\n",
    "## theta = np.deg2rad(20)\n",
    "A = np.array([[np.cos(theta),-np.sin(theta)],\n",
    "               [np.sin(theta),np.cos(theta)]])\n",
    "b = np.array([1,0])\n",
    "#print(A)\n",
    "print(np.dot(A,b))\n",
    "A@b"
   ]
  },
  {
   "cell_type": "markdown",
   "metadata": {},
   "source": [
    "## 5번"
   ]
  },
  {
   "cell_type": "code",
   "execution_count": 8,
   "metadata": {},
   "outputs": [
    {
     "name": "stdout",
     "output_type": "stream",
     "text": [
      "v1= [0.40650407 0.23364486 0.        ]\n",
      "v2= [0.         0.46728972 0.        ]\n",
      "v3= [0.  0.  0.1]\n"
     ]
    },
    {
     "data": {
      "text/plain": [
       "array([[0.40650407, 0.23364486, 0.        ],\n",
       "       [0.        , 0.46728972, 0.        ],\n",
       "       [0.        , 0.        , 0.1       ]])"
      ]
     },
     "execution_count": 8,
     "metadata": {},
     "output_type": "execute_result"
    }
   ],
   "source": [
    "import numpy as np\n",
    "\n",
    "A = np.array([[2.46,0.00,0.00],\n",
    "             [-1.23,2.14,0.00],\n",
    "             [0.00,0.00,10.00]])\n",
    "dotV1 = np.array([1,0,0])\n",
    "dotV2 = np.array([0,1,0])\n",
    "dotV3 = np.array([0,0,1])\n",
    "\n",
    "v1 = np.linalg.solve(A,dotV1)\n",
    "v2 = np.linalg.solve(A,dotV2)\n",
    "v3 = np.linalg.solve(A,dotV3)\n",
    "\n",
    "print('v1=',v1)\n",
    "print('v2=',v2)\n",
    "print('v3=',v3)\n",
    "\n",
    "b = np.eye(3)\n",
    "v = np.linalg.solve(A,b)\n",
    "v.T"
   ]
  },
  {
   "cell_type": "code",
   "execution_count": null,
   "metadata": {},
   "outputs": [],
   "source": []
  }
 ],
 "metadata": {
  "kernelspec": {
   "display_name": "Python 3",
   "language": "python",
   "name": "python3"
  },
  "language_info": {
   "codemirror_mode": {
    "name": "ipython",
    "version": 3
   },
   "file_extension": ".py",
   "mimetype": "text/x-python",
   "name": "python",
   "nbconvert_exporter": "python",
   "pygments_lexer": "ipython3",
   "version": "3.8.5"
  }
 },
 "nbformat": 4,
 "nbformat_minor": 4
}
